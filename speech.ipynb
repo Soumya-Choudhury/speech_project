{
  "nbformat": 4,
  "nbformat_minor": 0,
  "metadata": {
    "colab": {
      "provenance": [],
      "include_colab_link": true
    },
    "kernelspec": {
      "name": "python3",
      "display_name": "Python 3"
    },
    "language_info": {
      "name": "python"
    }
  },
  "cells": [
    {
      "cell_type": "markdown",
      "metadata": {
        "id": "view-in-github",
        "colab_type": "text"
      },
      "source": [
        "<a href=\"https://colab.research.google.com/github/Soumya-Choudhury/speech_project/blob/main/speech.ipynb\" target=\"_parent\"><img src=\"https://colab.research.google.com/assets/colab-badge.svg\" alt=\"Open In Colab\"/></a>"
      ]
    },
    {
      "cell_type": "code",
      "execution_count": 8,
      "metadata": {
        "colab": {
          "base_uri": "https://localhost:8080/"
        },
        "id": "2FUXgn7YpWsK",
        "outputId": "66554983-ef35-4657-84bb-12a2a2290f93"
      },
      "outputs": [
        {
          "output_type": "stream",
          "name": "stdout",
          "text": [
            "Drive already mounted at /content/drive; to attempt to forcibly remount, call drive.mount(\"/content/drive\", force_remount=True).\n"
          ]
        }
      ],
      "source": [
        "from google.colab import drive\n",
        "drive.mount('/content/drive')\n"
      ]
    },
    {
      "cell_type": "code",
      "source": [
        "import os\n",
        "\n",
        "path = '/content/drive/MyDrive/speech_project_techno_india/collegeproject'\n",
        "\n",
        "os.chdir(path)\n",
        "\n",
        "# Check the current working directory\n",
        "print(\"Current Working Directory: \", os.getcwd())\n"
      ],
      "metadata": {
        "colab": {
          "base_uri": "https://localhost:8080/"
        },
        "id": "iqhuih9-payq",
        "outputId": "06244f84-2f3b-40a7-aeaf-5c6319ebefdb"
      },
      "execution_count": 9,
      "outputs": [
        {
          "output_type": "stream",
          "name": "stdout",
          "text": [
            "Current Working Directory:  /content/drive/MyDrive/speech_project_techno_india/collegeproject\n"
          ]
        }
      ]
    },
    {
      "cell_type": "code",
      "source": [
        "os.listdir(\"/content/drive/My Drive\")"
      ],
      "metadata": {
        "colab": {
          "base_uri": "https://localhost:8080/"
        },
        "id": "U9sOG8Tduimo",
        "outputId": "84ef391a-4d2a-4342-bdcd-ef356ec74f8c"
      },
      "execution_count": 10,
      "outputs": [
        {
          "output_type": "execute_result",
          "data": {
            "text/plain": [
              "['Encapsulation Assignment.gdoc',\n",
              " 'Constructor Assignment.gdoc',\n",
              " 'Untitled document (6).gdoc',\n",
              " 'Static Keyword Assignment.gdoc',\n",
              " 'OOPS Assignment.gdoc',\n",
              " 'OOPS Fundamentals.gdoc',\n",
              " 'Arrays in Java Assignment.gdoc',\n",
              " 'PROJECT ASSIGNMENT.gdoc',\n",
              " 'Resume (1).gdoc',\n",
              " 'Resume.gdoc',\n",
              " 'Soumya Choudhury resume (9).pdf',\n",
              " 'Soumya Choudhury resume (8).pdf',\n",
              " 'Soumya Choudhury resume (7).pdf',\n",
              " 'Soumya Choudhury resume (6).pdf',\n",
              " 'Assignment1.gdoc',\n",
              " 'Recursion Assignment.gdoc',\n",
              " 'Untitled document (5).gdoc',\n",
              " 'Soumya Choudhury resume (1) (1).pdf',\n",
              " 'Untitled document (4).gdoc',\n",
              " 'Assignment-Linked List.gdoc',\n",
              " 'Untitled document (3).gdoc',\n",
              " 'Untitled document (2).gdoc',\n",
              " 'Untitled document (1).gdoc',\n",
              " 'Soumya Choudhury resume (5).pdf',\n",
              " 'project_firstPage (1).gdoc',\n",
              " 'project_firstPage.gdoc',\n",
              " '13000220028_Soumya Choudhury (2).pdf',\n",
              " 'OECIT701A_CA1_ITA_13000220028_Soumya Choudhury.pdf',\n",
              " 'Untitled spreadsheet.gsheet',\n",
              " 'moocs_topsheet.xlsx',\n",
              " 'movies',\n",
              " 'Soumya Choudhury resume (4).pdf',\n",
              " 'Soumya Choudhury (1).pdf',\n",
              " 'Soumya Choudhury.pdf',\n",
              " 'Untitled document.gdoc',\n",
              " '13000220028_Soumya Choudhury (1).pdf',\n",
              " 'Soumya Choudhury resume (3).pdf',\n",
              " 'OR_CA2_ITA_13000220028_Soumya Choudhury (1).pdf',\n",
              " 'OR_CA2_ITA_13000220028_Soumya Choudhury 1.gdoc',\n",
              " 'OR_CA2_ITA_13000220028_Soumya Choudhury.pdf',\n",
              " '13000220028_Soumya Choudhury_IT-A.pdf',\n",
              " 'CA2_report template_IT.gdoc',\n",
              " '13000220028_Soumya Choudhury.pdf',\n",
              " 'screenshot1.jpg',\n",
              " 'screenshot2.jpg',\n",
              " 'screenshot4.jpg',\n",
              " 'screenshot5.jpg',\n",
              " 'screenshot3.jpg',\n",
              " 'Soumya Choudhury resume (2).pdf',\n",
              " 'Soumya Choudhury_resume.pdf',\n",
              " 'Soumya Choudhury resume EY.pdf',\n",
              " 'Soumya Choudhury resume (1).pdf',\n",
              " 'Soumya Choudhury resume.pdf',\n",
              " 'Soumya Choudhury resume.gdoc',\n",
              " 'Evaluation_Sheet_-_for_4_Years_B-Tech_Courses(1).xlsx',\n",
              " 'Evaluation_Sheet_-_for_4_Years_B-Tech_Courses(1) (1).gsheet',\n",
              " 'Evaluation_Sheet_-_for_4_Years_B-Tech_Courses(1).gsheet',\n",
              " 'Evaluation_Sheet_-_for_4_Years_B-Tech_Courses.gsheet',\n",
              " '13000220028.zip',\n",
              " 'speech_project_techno_india']"
            ]
          },
          "metadata": {},
          "execution_count": 10
        }
      ]
    },
    {
      "cell_type": "code",
      "source": [
        "import librosa\n",
        "import numpy as np\n",
        "\n",
        "def extract_mfcc(y, sr, n_mfcc=13):\n",
        "    mfccs = librosa.feature.mfcc(y=y, sr=sr, n_mfcc=n_mfcc)\n",
        "    return mfccs\n",
        "\n",
        "def extract_lfcc(y, sr, n_lfcc=13):\n",
        "    # Compute the DFT (Spectrum)\n",
        "    D = librosa.stft(y)\n",
        "    # Convert amplitude spectrum to dB-scale\n",
        "    magnitude, phase = librosa.magphase(D)\n",
        "    S = librosa.amplitude_to_db(magnitude, ref=np.max)\n",
        "    # Compute the LFCC\n",
        "    lfccs = librosa.feature.mfcc(S=S, sr=sr, n_mfcc=n_lfcc)\n",
        "    return lfccs"
      ],
      "metadata": {
        "id": "aht5xn5pqZs9"
      },
      "execution_count": 11,
      "outputs": []
    },
    {
      "cell_type": "code",
      "source": [
        "\n",
        "personalities = os.listdir()\n",
        "# ==========================================\n",
        "# SECTION 1: FUNCTION DEFINITIONS\n",
        "# ==========================================\n",
        "\n",
        "audio_files = []\n",
        "labels  =[]\n",
        "\n",
        "for element in personalities:\n",
        "    if element not in ([\".git\", \".DS_Store\", \"README.md\"]):\n",
        "        substack = os.listdir(f\"{os.getcwd()}/{element}\")\n",
        "        for file in substack:\n",
        "            # persona = element.replace(\" \",\"_\")\n",
        "            # os.rename(f\"{os.getcwd()}/collegeproject/{element}/{file}\",f\"{os.getcwd()}/collegeproject/{element}/{persona}-{file}\")\n",
        "            audio_files.append(f\"{os.getcwd()}/{element}/{file}\")\n",
        "            labels.append(file.split(\"-\")[0])\n",
        "\n",
        "import librosa\n",
        "import numpy as np\n",
        "from sklearn import svm\n",
        "from sklearn.model_selection import train_test_split\n",
        "from sklearn.metrics import classification_report, accuracy_score\n",
        "\n",
        "def add_noise_at_db(y, desired_snr_db):\n",
        "    # Create a random noise\n",
        "    noise = np.random.randn(len(y))\n",
        "\n",
        "    # Calculate the power of the signal\n",
        "    signal_power = np.sum(y**2)\n",
        "\n",
        "    # Calculate the desired power of the noise\n",
        "    desired_noise_power = signal_power / (10**(desired_snr_db / 10))\n",
        "\n",
        "    # Scale the noise to achieve the desired power\n",
        "    scaling_factor = np.sqrt(desired_noise_power / np.sum(noise**2))\n",
        "    noise = scaling_factor * noise\n",
        "\n",
        "    # Add noise to the original signal\n",
        "    y_noisy = y + noise\n",
        "\n",
        "    return y_noisy\n",
        "\n",
        "# ==========================================\n",
        "# SECTION 2: MAIN CODE - WITHOUT NOISE\n",
        "# ==========================================\n",
        "\n",
        "features = []\n",
        "for file in audio_files:\n",
        "    try:\n",
        "        y, sr = librosa.load(file)\n",
        "        mfcc_features = extract_mfcc(y, sr).mean(axis=1)\n",
        "        lfcc_features = extract_lfcc(y, sr).mean(axis=1)\n",
        "        combined_features = np.hstack([mfcc_features, lfcc_features])\n",
        "        features.append(combined_features)\n",
        "    except Exception as e:\n",
        "        del_index = audio_files.index(file)\n",
        "        print(f\"Error at index {del_index}: {e}\")\n",
        "        del labels[del_index]\n",
        "\n",
        "X_train, X_test, y_train, y_test = train_test_split(features, labels, test_size=0.2, random_state=42)\n",
        "clf = svm.SVC(kernel='linear')\n",
        "clf.fit(X_train, y_train)\n",
        "y_pred = clf.predict(X_test)\n",
        "print(\"Performance WITHOUT Noise:\")\n",
        "print(accuracy_score(y_test, y_pred))\n",
        "print(classification_report(y_test, y_pred))\n",
        "\n",
        "# ==========================================\n",
        "# SECTION 3: MAIN CODE - WITH NOISE 5 db\n",
        "# ==========================================\n",
        "\n",
        "features = []\n",
        "for file in audio_files:\n",
        "    try:\n",
        "        y, sr = librosa.load(file)\n",
        "        y_noisy = add_noise_at_db(y, -5)  # To add 5dB noise\n",
        "        # For 10dB, use: y_noisy = add_noise_at_db(y, -10)\n",
        "        mfcc_features = extract_mfcc(y_noisy, sr).mean(axis=1)\n",
        "        lfcc_features = extract_lfcc(y_noisy, sr).mean(axis=1)\n",
        "        combined_features = np.hstack([mfcc_features, lfcc_features])\n",
        "        features.append(combined_features)\n",
        "    except Exception as e:\n",
        "        del_index = audio_files.index(file)\n",
        "        print(f\"Error at index {del_index}: {e}\")\n",
        "        del labels[del_index]\n",
        "\n",
        "X_train, X_test, y_train, y_test = train_test_split(features, labels, test_size=0.2, random_state=42)\n",
        "clf = svm.SVC(kernel='linear')\n",
        "clf.fit(X_train, y_train)\n",
        "y_pred = clf.predict(X_test)\n",
        "print(\"\\nPerformance WITH Noise:\")\n",
        "print(accuracy_score(y_test, y_pred))\n",
        "print(classification_report(y_test, y_pred))\n"
      ],
      "metadata": {
        "id": "vFnqW1IqqdUy",
        "outputId": "c3aa4e39-82fe-4615-baab-81e8a4e95854",
        "colab": {
          "base_uri": "https://localhost:8080/"
        }
      },
      "execution_count": 16,
      "outputs": [
        {
          "output_type": "stream",
          "name": "stdout",
          "text": [
            "Performance WITHOUT Noise:\n",
            "0.9444444444444444\n",
            "                  precision    recall  f1-score   support\n",
            "\n",
            "      Aamir_Khan       1.00      0.88      0.93         8\n",
            "      Ajay_Devgn       0.89      1.00      0.94         8\n",
            "Pareneeti_Chopra       0.89      1.00      0.94         8\n",
            "    Preeti_Zinta       1.00      0.83      0.91         6\n",
            "   Shahid_Kapoor       1.00      1.00      1.00         6\n",
            "\n",
            "        accuracy                           0.94        36\n",
            "       macro avg       0.96      0.94      0.94        36\n",
            "    weighted avg       0.95      0.94      0.94        36\n",
            "\n",
            "\n",
            "Performance WITH Noise:\n",
            "0.8888888888888888\n",
            "                  precision    recall  f1-score   support\n",
            "\n",
            "      Aamir_Khan       0.88      0.88      0.88         8\n",
            "      Ajay_Devgn       0.78      0.88      0.82         8\n",
            "Pareneeti_Chopra       0.89      1.00      0.94         8\n",
            "    Preeti_Zinta       1.00      0.83      0.91         6\n",
            "   Shahid_Kapoor       1.00      0.83      0.91         6\n",
            "\n",
            "        accuracy                           0.89        36\n",
            "       macro avg       0.91      0.88      0.89        36\n",
            "    weighted avg       0.90      0.89      0.89        36\n",
            "\n"
          ]
        }
      ]
    },
    {
      "cell_type": "code",
      "source": [
        "# ==========================================\n",
        "# SECTION 3: MAIN CODE - WITH NOISE 10 db\n",
        "# ==========================================\n",
        "\n",
        "features = []\n",
        "for file in audio_files:\n",
        "    try:\n",
        "        y, sr = librosa.load(file)\n",
        "        y_noisy = add_noise_at_db(y, -10)  # To add 5dB noise\n",
        "        # For 10dB, use: y_noisy = add_noise_at_db(y, -10)\n",
        "        mfcc_features = extract_mfcc(y_noisy, sr).mean(axis=1)\n",
        "        lfcc_features = extract_lfcc(y_noisy, sr).mean(axis=1)\n",
        "        combined_features = np.hstack([mfcc_features, lfcc_features])\n",
        "        features.append(combined_features)\n",
        "    except Exception as e:\n",
        "        del_index = audio_files.index(file)\n",
        "        print(f\"Error at index {del_index}: {e}\")\n",
        "        del labels[del_index]\n",
        "\n",
        "X_train, X_test, y_train, y_test = train_test_split(features, labels, test_size=0.2, random_state=42)\n",
        "clf = svm.SVC(kernel='linear')\n",
        "clf.fit(X_train, y_train)\n",
        "y_pred = clf.predict(X_test)\n",
        "print(\"\\nPerformance WITH Noise:\")\n",
        "print(accuracy_score(y_test, y_pred))\n",
        "print(classification_report(y_test, y_pred))\n"
      ],
      "metadata": {
        "id": "gUK6lDKGqfre",
        "outputId": "3fb20df1-e0d4-4aa3-a8fd-4a3b201005c3",
        "colab": {
          "base_uri": "https://localhost:8080/"
        }
      },
      "execution_count": 15,
      "outputs": [
        {
          "output_type": "stream",
          "name": "stdout",
          "text": [
            "\n",
            "Performance WITH Noise:\n",
            "0.8055555555555556\n",
            "                  precision    recall  f1-score   support\n",
            "\n",
            "      Aamir_Khan       0.70      0.88      0.78         8\n",
            "      Ajay_Devgn       0.71      0.62      0.67         8\n",
            "Pareneeti_Chopra       0.89      1.00      0.94         8\n",
            "    Preeti_Zinta       1.00      0.83      0.91         6\n",
            "   Shahid_Kapoor       0.80      0.67      0.73         6\n",
            "\n",
            "        accuracy                           0.81        36\n",
            "       macro avg       0.82      0.80      0.80        36\n",
            "    weighted avg       0.81      0.81      0.80        36\n",
            "\n"
          ]
        }
      ]
    },
    {
      "cell_type": "code",
      "source": [
        "# ==========================================\n",
        "# SECTION 3: MAIN CODE - WITH NOISE 20 db\n",
        "# ==========================================\n",
        "\n",
        "features = []\n",
        "for file in audio_files:\n",
        "    try:\n",
        "        y, sr = librosa.load(file)\n",
        "        y_noisy = add_noise_at_db(y, -20)  # To add 5dB noise\n",
        "        # For 10dB, use: y_noisy = add_noise_at_db(y, -10)\n",
        "        mfcc_features = extract_mfcc(y_noisy, sr).mean(axis=1)\n",
        "        lfcc_features = extract_lfcc(y_noisy, sr).mean(axis=1)\n",
        "        combined_features = np.hstack([mfcc_features, lfcc_features])\n",
        "        features.append(combined_features)\n",
        "    except Exception as e:\n",
        "        del_index = audio_files.index(file)\n",
        "        print(f\"Error at index {del_index}: {e}\")\n",
        "        del labels[del_index]\n",
        "\n",
        "X_train, X_test, y_train, y_test = train_test_split(features, labels, test_size=0.2, random_state=42)\n",
        "clf = svm.SVC(kernel='linear')\n",
        "clf.fit(X_train, y_train)\n",
        "y_pred = clf.predict(X_test)\n",
        "print(\"\\nPerformance WITH Noise:\")\n",
        "print(accuracy_score(y_test, y_pred))\n",
        "print(classification_report(y_test, y_pred))"
      ],
      "metadata": {
        "id": "E0niqwLhrDqq",
        "outputId": "10563f4f-1aa7-41e8-cd16-1ca72b284fe1",
        "colab": {
          "base_uri": "https://localhost:8080/"
        }
      },
      "execution_count": 17,
      "outputs": [
        {
          "output_type": "stream",
          "name": "stdout",
          "text": [
            "\n",
            "Performance WITH Noise:\n",
            "0.5833333333333334\n",
            "                  precision    recall  f1-score   support\n",
            "\n",
            "      Aamir_Khan       0.50      0.75      0.60         8\n",
            "      Ajay_Devgn       0.38      0.38      0.38         8\n",
            "Pareneeti_Chopra       0.83      0.62      0.71         8\n",
            "    Preeti_Zinta       0.83      0.83      0.83         6\n",
            "   Shahid_Kapoor       0.50      0.33      0.40         6\n",
            "\n",
            "        accuracy                           0.58        36\n",
            "       macro avg       0.61      0.58      0.58        36\n",
            "    weighted avg       0.60      0.58      0.58        36\n",
            "\n"
          ]
        }
      ]
    }
  ]
}